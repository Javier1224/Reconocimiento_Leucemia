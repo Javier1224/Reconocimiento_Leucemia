{
  "nbformat": 4,
  "nbformat_minor": 0,
  "metadata": {
    "colab": {
      "provenance": [],
      "authorship_tag": "ABX9TyNcbFf6NuS9MDYh0Onwus8y",
      "include_colab_link": true
    },
    "kernelspec": {
      "name": "python3",
      "display_name": "Python 3"
    },
    "language_info": {
      "name": "python"
    }
  },
  "cells": [
    {
      "cell_type": "markdown",
      "metadata": {
        "id": "view-in-github",
        "colab_type": "text"
      },
      "source": [
        "<a href=\"https://colab.research.google.com/github/Javier1224/Reconocimiento_Leucemia/blob/main/Proyecto_Final.ipynb\" target=\"_parent\"><img src=\"https://colab.research.google.com/assets/colab-badge.svg\" alt=\"Open In Colab\"/></a>"
      ]
    },
    {
      "cell_type": "code",
      "execution_count": 1,
      "metadata": {
        "id": "tpUA6evumxN4"
      },
      "outputs": [],
      "source": [
        "from IPython import get_ipython\n",
        "from IPython.display import display\n",
        "# %%\n",
        "import numpy as np\n",
        "import matplotlib.pyplot as plt\n",
        "import skimage.io as skio\n",
        "import os\n",
        "\n",
        "import skimage\n",
        "import skimage.color as skic # operaciones con color\n",
        "from skimage.color import rgb2gray # Importar rgb2gray\n",
        "import skimage.filters as skif # filtros\n",
        "import skimage.util as sku # utilidades\n",
        "import skimage.metrics as skm # métricas\n",
        "from skimage import segmentation as seg # Segmentación\n",
        "\n",
        "from skimage.exposure import histogram\n",
        "from skimage.transform import resize\n",
        "from skimage import img_as_float, exposure\n",
        "from skimage.feature import hog\n",
        "#from skimage.feature import greycomatrix, greycoprops\n",
        "from skimage import color, data, transform\n",
        "from skimage.feature import canny\n",
        "\n",
        "  # Importar skimage.io para cargar la imagen\n",
        "import matplotlib.image as mpimg\n",
        "import cv2\n",
        "\n",
        "import numpy"
      ]
    },
    {
      "cell_type": "code",
      "source": [],
      "metadata": {
        "id": "SC4NIdazm2_2"
      },
      "execution_count": null,
      "outputs": []
    }
  ]
}